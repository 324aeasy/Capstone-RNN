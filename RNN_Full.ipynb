{
 "cells": [
  {
   "cell_type": "code",
   "execution_count": 1,
   "metadata": {},
   "outputs": [],
   "source": [
    "import nltk\n",
    "import numpy as np\n",
    "import pandas as pd\n",
    "import seaborn as sns\n",
    "import matplotlib.pyplot as plt\n",
    "import re\n",
    "\n",
    "%matplotlib inline"
   ]
  },
  {
   "cell_type": "markdown",
   "metadata": {},
   "source": [
    "## Part 1: Import dataset"
   ]
  },
  {
   "cell_type": "code",
   "execution_count": 2,
   "metadata": {},
   "outputs": [],
   "source": [
    "# Read in full dataset\n",
    "news = pd.read_csv('truefake.csv')"
   ]
  },
  {
   "cell_type": "code",
   "execution_count": 3,
   "metadata": {},
   "outputs": [
    {
     "data": {
      "text/html": [
       "<div>\n",
       "<style scoped>\n",
       "    .dataframe tbody tr th:only-of-type {\n",
       "        vertical-align: middle;\n",
       "    }\n",
       "\n",
       "    .dataframe tbody tr th {\n",
       "        vertical-align: top;\n",
       "    }\n",
       "\n",
       "    .dataframe thead th {\n",
       "        text-align: right;\n",
       "    }\n",
       "</style>\n",
       "<table border=\"1\" class=\"dataframe\">\n",
       "  <thead>\n",
       "    <tr style=\"text-align: right;\">\n",
       "      <th></th>\n",
       "      <th>r_or_f</th>\n",
       "      <th>title</th>\n",
       "      <th>text</th>\n",
       "      <th>subject</th>\n",
       "      <th>date</th>\n",
       "    </tr>\n",
       "  </thead>\n",
       "  <tbody>\n",
       "    <tr>\n",
       "      <th>0</th>\n",
       "      <td>Real</td>\n",
       "      <td>As U.S. budget fight looms, Republicans flip t...</td>\n",
       "      <td>WASHINGTON (Reuters) - The head of a conservat...</td>\n",
       "      <td>politicsNews</td>\n",
       "      <td>31-Dec-17</td>\n",
       "    </tr>\n",
       "    <tr>\n",
       "      <th>1</th>\n",
       "      <td>Real</td>\n",
       "      <td>U.S. military to accept transgender recruits o...</td>\n",
       "      <td>WASHINGTON (Reuters) - Transgender people will...</td>\n",
       "      <td>politicsNews</td>\n",
       "      <td>29-Dec-17</td>\n",
       "    </tr>\n",
       "    <tr>\n",
       "      <th>2</th>\n",
       "      <td>Real</td>\n",
       "      <td>Senior U.S. Republican senator: 'Let Mr. Muell...</td>\n",
       "      <td>WASHINGTON (Reuters) - The special counsel inv...</td>\n",
       "      <td>politicsNews</td>\n",
       "      <td>31-Dec-17</td>\n",
       "    </tr>\n",
       "    <tr>\n",
       "      <th>3</th>\n",
       "      <td>Real</td>\n",
       "      <td>FBI Russia probe helped by Australian diplomat...</td>\n",
       "      <td>WASHINGTON (Reuters) - Trump campaign adviser ...</td>\n",
       "      <td>politicsNews</td>\n",
       "      <td>30-Dec-17</td>\n",
       "    </tr>\n",
       "    <tr>\n",
       "      <th>4</th>\n",
       "      <td>Real</td>\n",
       "      <td>Trump wants Postal Service to charge 'much mor...</td>\n",
       "      <td>SEATTLE/WASHINGTON (Reuters) - President Donal...</td>\n",
       "      <td>politicsNews</td>\n",
       "      <td>29-Dec-17</td>\n",
       "    </tr>\n",
       "  </tbody>\n",
       "</table>\n",
       "</div>"
      ],
      "text/plain": [
       "  r_or_f                                              title  \\\n",
       "0   Real  As U.S. budget fight looms, Republicans flip t...   \n",
       "1   Real  U.S. military to accept transgender recruits o...   \n",
       "2   Real  Senior U.S. Republican senator: 'Let Mr. Muell...   \n",
       "3   Real  FBI Russia probe helped by Australian diplomat...   \n",
       "4   Real  Trump wants Postal Service to charge 'much mor...   \n",
       "\n",
       "                                                text       subject       date  \n",
       "0  WASHINGTON (Reuters) - The head of a conservat...  politicsNews  31-Dec-17  \n",
       "1  WASHINGTON (Reuters) - Transgender people will...  politicsNews  29-Dec-17  \n",
       "2  WASHINGTON (Reuters) - The special counsel inv...  politicsNews  31-Dec-17  \n",
       "3  WASHINGTON (Reuters) - Trump campaign adviser ...  politicsNews  30-Dec-17  \n",
       "4  SEATTLE/WASHINGTON (Reuters) - President Donal...  politicsNews  29-Dec-17  "
      ]
     },
     "execution_count": 3,
     "metadata": {},
     "output_type": "execute_result"
    }
   ],
   "source": [
    "# See head of dataframe\n",
    "news.head()"
   ]
  },
  {
   "cell_type": "code",
   "execution_count": 4,
   "metadata": {},
   "outputs": [
    {
     "data": {
      "text/html": [
       "<div>\n",
       "<style scoped>\n",
       "    .dataframe tbody tr th:only-of-type {\n",
       "        vertical-align: middle;\n",
       "    }\n",
       "\n",
       "    .dataframe tbody tr th {\n",
       "        vertical-align: top;\n",
       "    }\n",
       "\n",
       "    .dataframe thead th {\n",
       "        text-align: right;\n",
       "    }\n",
       "</style>\n",
       "<table border=\"1\" class=\"dataframe\">\n",
       "  <thead>\n",
       "    <tr style=\"text-align: right;\">\n",
       "      <th></th>\n",
       "      <th>count</th>\n",
       "      <th>unique</th>\n",
       "      <th>top</th>\n",
       "      <th>freq</th>\n",
       "    </tr>\n",
       "  </thead>\n",
       "  <tbody>\n",
       "    <tr>\n",
       "      <th>r_or_f</th>\n",
       "      <td>44919</td>\n",
       "      <td>2</td>\n",
       "      <td>Fake</td>\n",
       "      <td>23502</td>\n",
       "    </tr>\n",
       "    <tr>\n",
       "      <th>title</th>\n",
       "      <td>44919</td>\n",
       "      <td>38740</td>\n",
       "      <td>Factbox: Trump fills top jobs for his administ...</td>\n",
       "      <td>14</td>\n",
       "    </tr>\n",
       "    <tr>\n",
       "      <th>text</th>\n",
       "      <td>44919</td>\n",
       "      <td>38657</td>\n",
       "      <td></td>\n",
       "      <td>627</td>\n",
       "    </tr>\n",
       "    <tr>\n",
       "      <th>subject</th>\n",
       "      <td>44898</td>\n",
       "      <td>19</td>\n",
       "      <td>politicsNews</td>\n",
       "      <td>11272</td>\n",
       "    </tr>\n",
       "    <tr>\n",
       "      <th>date</th>\n",
       "      <td>44898</td>\n",
       "      <td>1027</td>\n",
       "      <td>20-Dec-17</td>\n",
       "      <td>197</td>\n",
       "    </tr>\n",
       "  </tbody>\n",
       "</table>\n",
       "</div>"
      ],
      "text/plain": [
       "         count unique                                                top  \\\n",
       "r_or_f   44919      2                                               Fake   \n",
       "title    44919  38740  Factbox: Trump fills top jobs for his administ...   \n",
       "text     44919  38657                                                      \n",
       "subject  44898     19                                       politicsNews   \n",
       "date     44898   1027                                          20-Dec-17   \n",
       "\n",
       "          freq  \n",
       "r_or_f   23502  \n",
       "title       14  \n",
       "text       627  \n",
       "subject  11272  \n",
       "date       197  "
      ]
     },
     "execution_count": 4,
     "metadata": {},
     "output_type": "execute_result"
    }
   ],
   "source": [
    "# There are some duplicates or null values!\n",
    "news.describe().transpose()"
   ]
  },
  {
   "cell_type": "code",
   "execution_count": 5,
   "metadata": {},
   "outputs": [],
   "source": [
    "# Dropped null values, title-only rows, and duplicates\n",
    "news.dropna(inplace=True)\n",
    "news = news[news.text != ' ']\n",
    "news = news.drop_duplicates(subset='text', keep='last')"
   ]
  },
  {
   "cell_type": "code",
   "execution_count": 3,
   "metadata": {},
   "outputs": [],
   "source": [
    "# Remove non-ascii characters\n",
    "def no_ascii(text):\n",
    "    return (re.sub(r'[^\\x00-\\x7f]',r'', text))"
   ]
  },
  {
   "cell_type": "code",
   "execution_count": 7,
   "metadata": {},
   "outputs": [],
   "source": [
    "news['text'] = news['text'].apply(no_ascii)"
   ]
  },
  {
   "cell_type": "code",
   "execution_count": 8,
   "metadata": {},
   "outputs": [
    {
     "data": {
      "text/html": [
       "<div>\n",
       "<style scoped>\n",
       "    .dataframe tbody tr th:only-of-type {\n",
       "        vertical-align: middle;\n",
       "    }\n",
       "\n",
       "    .dataframe tbody tr th {\n",
       "        vertical-align: top;\n",
       "    }\n",
       "\n",
       "    .dataframe thead th {\n",
       "        text-align: right;\n",
       "    }\n",
       "</style>\n",
       "<table border=\"1\" class=\"dataframe\">\n",
       "  <thead>\n",
       "    <tr style=\"text-align: right;\">\n",
       "      <th></th>\n",
       "      <th>count</th>\n",
       "      <th>unique</th>\n",
       "      <th>top</th>\n",
       "      <th>freq</th>\n",
       "    </tr>\n",
       "  </thead>\n",
       "  <tbody>\n",
       "    <tr>\n",
       "      <th>r_or_f</th>\n",
       "      <td>38645</td>\n",
       "      <td>2</td>\n",
       "      <td>Real</td>\n",
       "      <td>21191</td>\n",
       "    </tr>\n",
       "    <tr>\n",
       "      <th>title</th>\n",
       "      <td>38645</td>\n",
       "      <td>38269</td>\n",
       "      <td>Factbox: Trump fills top jobs for his administ...</td>\n",
       "      <td>14</td>\n",
       "    </tr>\n",
       "    <tr>\n",
       "      <th>text</th>\n",
       "      <td>38645</td>\n",
       "      <td>38645</td>\n",
       "      <td>WASHINGTON (Reuters) - The head of a conservat...</td>\n",
       "      <td>1</td>\n",
       "    </tr>\n",
       "    <tr>\n",
       "      <th>subject</th>\n",
       "      <td>38645</td>\n",
       "      <td>19</td>\n",
       "      <td>politicsNews</td>\n",
       "      <td>11202</td>\n",
       "    </tr>\n",
       "    <tr>\n",
       "      <th>date</th>\n",
       "      <td>38645</td>\n",
       "      <td>1027</td>\n",
       "      <td>6-Dec-17</td>\n",
       "      <td>177</td>\n",
       "    </tr>\n",
       "  </tbody>\n",
       "</table>\n",
       "</div>"
      ],
      "text/plain": [
       "         count unique                                                top  \\\n",
       "r_or_f   38645      2                                               Real   \n",
       "title    38645  38269  Factbox: Trump fills top jobs for his administ...   \n",
       "text     38645  38645  WASHINGTON (Reuters) - The head of a conservat...   \n",
       "subject  38645     19                                       politicsNews   \n",
       "date     38645   1027                                           6-Dec-17   \n",
       "\n",
       "          freq  \n",
       "r_or_f   21191  \n",
       "title       14  \n",
       "text         1  \n",
       "subject  11202  \n",
       "date       177  "
      ]
     },
     "execution_count": 8,
     "metadata": {},
     "output_type": "execute_result"
    }
   ],
   "source": [
    "news.describe().transpose()"
   ]
  },
  {
   "cell_type": "markdown",
   "metadata": {},
   "source": [
    "## Part 2: Feature Extraction 1: Word length, capitalization\n",
    "\n",
    "Test a variety of features to see what is best correlated to real/fake"
   ]
  },
  {
   "cell_type": "code",
   "execution_count": 9,
   "metadata": {},
   "outputs": [],
   "source": [
    "# Character length\n",
    "news['char_length'] = news['text'].apply(len)"
   ]
  },
  {
   "cell_type": "code",
   "execution_count": 10,
   "metadata": {},
   "outputs": [],
   "source": [
    "# Word length; drop single value with 0 word_length\n",
    "news['word_length'] = news['text'].apply(lambda x: len(x.split()))\n",
    "news = news[news['word_length'] != 0]"
   ]
  },
  {
   "cell_type": "code",
   "execution_count": 11,
   "metadata": {},
   "outputs": [],
   "source": [
    "# Average char/word\n",
    "news['avg_char_word'] = news['char_length'] / news['word_length']"
   ]
  },
  {
   "cell_type": "code",
   "execution_count": 4,
   "metadata": {},
   "outputs": [],
   "source": [
    "# Capital letters function\n",
    "def num_capital_letters(text):\n",
    "    result = 0\n",
    "    for i in text:\n",
    "        if i.isupper():\n",
    "            result += 1\n",
    "    return result"
   ]
  },
  {
   "cell_type": "code",
   "execution_count": 13,
   "metadata": {},
   "outputs": [],
   "source": [
    "# Capital letters\n",
    "news['capital_per_word_length'] = news['text'].apply(num_capital_letters) / news['word_length']"
   ]
  },
  {
   "cell_type": "code",
   "execution_count": 14,
   "metadata": {},
   "outputs": [
    {
     "data": {
      "text/html": [
       "<div>\n",
       "<style scoped>\n",
       "    .dataframe tbody tr th:only-of-type {\n",
       "        vertical-align: middle;\n",
       "    }\n",
       "\n",
       "    .dataframe tbody tr th {\n",
       "        vertical-align: top;\n",
       "    }\n",
       "\n",
       "    .dataframe thead th {\n",
       "        text-align: right;\n",
       "    }\n",
       "</style>\n",
       "<table border=\"1\" class=\"dataframe\">\n",
       "  <thead>\n",
       "    <tr style=\"text-align: right;\">\n",
       "      <th></th>\n",
       "      <th>r_or_f</th>\n",
       "      <th>title</th>\n",
       "      <th>text</th>\n",
       "      <th>subject</th>\n",
       "      <th>date</th>\n",
       "      <th>char_length</th>\n",
       "      <th>word_length</th>\n",
       "      <th>avg_char_word</th>\n",
       "      <th>capital_per_word_length</th>\n",
       "    </tr>\n",
       "  </thead>\n",
       "  <tbody>\n",
       "    <tr>\n",
       "      <th>0</th>\n",
       "      <td>Real</td>\n",
       "      <td>As U.S. budget fight looms, Republicans flip t...</td>\n",
       "      <td>WASHINGTON (Reuters) - The head of a conservat...</td>\n",
       "      <td>politicsNews</td>\n",
       "      <td>31-Dec-17</td>\n",
       "      <td>4625</td>\n",
       "      <td>749</td>\n",
       "      <td>6.174900</td>\n",
       "      <td>0.206943</td>\n",
       "    </tr>\n",
       "    <tr>\n",
       "      <th>1</th>\n",
       "      <td>Real</td>\n",
       "      <td>U.S. military to accept transgender recruits o...</td>\n",
       "      <td>WASHINGTON (Reuters) - Transgender people will...</td>\n",
       "      <td>politicsNews</td>\n",
       "      <td>29-Dec-17</td>\n",
       "      <td>4053</td>\n",
       "      <td>624</td>\n",
       "      <td>6.495192</td>\n",
       "      <td>0.190705</td>\n",
       "    </tr>\n",
       "    <tr>\n",
       "      <th>2</th>\n",
       "      <td>Real</td>\n",
       "      <td>Senior U.S. Republican senator: 'Let Mr. Muell...</td>\n",
       "      <td>WASHINGTON (Reuters) - The special counsel inv...</td>\n",
       "      <td>politicsNews</td>\n",
       "      <td>31-Dec-17</td>\n",
       "      <td>2771</td>\n",
       "      <td>457</td>\n",
       "      <td>6.063457</td>\n",
       "      <td>0.256018</td>\n",
       "    </tr>\n",
       "    <tr>\n",
       "      <th>3</th>\n",
       "      <td>Real</td>\n",
       "      <td>FBI Russia probe helped by Australian diplomat...</td>\n",
       "      <td>WASHINGTON (Reuters) - Trump campaign adviser ...</td>\n",
       "      <td>politicsNews</td>\n",
       "      <td>30-Dec-17</td>\n",
       "      <td>2449</td>\n",
       "      <td>376</td>\n",
       "      <td>6.513298</td>\n",
       "      <td>0.292553</td>\n",
       "    </tr>\n",
       "    <tr>\n",
       "      <th>4</th>\n",
       "      <td>Real</td>\n",
       "      <td>Trump wants Postal Service to charge 'much mor...</td>\n",
       "      <td>SEATTLE/WASHINGTON (Reuters) - President Donal...</td>\n",
       "      <td>politicsNews</td>\n",
       "      <td>29-Dec-17</td>\n",
       "      <td>5186</td>\n",
       "      <td>852</td>\n",
       "      <td>6.086854</td>\n",
       "      <td>0.234742</td>\n",
       "    </tr>\n",
       "  </tbody>\n",
       "</table>\n",
       "</div>"
      ],
      "text/plain": [
       "  r_or_f                                              title  \\\n",
       "0   Real  As U.S. budget fight looms, Republicans flip t...   \n",
       "1   Real  U.S. military to accept transgender recruits o...   \n",
       "2   Real  Senior U.S. Republican senator: 'Let Mr. Muell...   \n",
       "3   Real  FBI Russia probe helped by Australian diplomat...   \n",
       "4   Real  Trump wants Postal Service to charge 'much mor...   \n",
       "\n",
       "                                                text       subject       date  \\\n",
       "0  WASHINGTON (Reuters) - The head of a conservat...  politicsNews  31-Dec-17   \n",
       "1  WASHINGTON (Reuters) - Transgender people will...  politicsNews  29-Dec-17   \n",
       "2  WASHINGTON (Reuters) - The special counsel inv...  politicsNews  31-Dec-17   \n",
       "3  WASHINGTON (Reuters) - Trump campaign adviser ...  politicsNews  30-Dec-17   \n",
       "4  SEATTLE/WASHINGTON (Reuters) - President Donal...  politicsNews  29-Dec-17   \n",
       "\n",
       "   char_length  word_length  avg_char_word  capital_per_word_length  \n",
       "0         4625          749       6.174900                 0.206943  \n",
       "1         4053          624       6.495192                 0.190705  \n",
       "2         2771          457       6.063457                 0.256018  \n",
       "3         2449          376       6.513298                 0.292553  \n",
       "4         5186          852       6.086854                 0.234742  "
      ]
     },
     "execution_count": 14,
     "metadata": {},
     "output_type": "execute_result"
    }
   ],
   "source": [
    "news.head()"
   ]
  },
  {
   "cell_type": "code",
   "execution_count": 15,
   "metadata": {},
   "outputs": [
    {
     "data": {
      "text/plain": [
       "<seaborn.axisgrid.PairGrid at 0x7f1e3d8654f0>"
      ]
     },
     "execution_count": 15,
     "metadata": {},
     "output_type": "execute_result"
    },
    {
     "data": {
      "image/png": "[encoded data removed]",
      "text/plain": [
       "<Figure size 778.5x720 with 20 Axes>"
      ]
     },
     "metadata": {
      "needs_background": "light"
     },
     "output_type": "display_data"
    }
   ],
   "source": [
    "# Let's get a sense of the correlation with a pairplot\n",
    "# Not a lot of visible separation here, though there are some shorter real articles\n",
    "sns.pairplot(news,hue='r_or_f',plot_kws={'alpha': 0.1})"
   ]
  },
  {
   "cell_type": "markdown",
   "metadata": {},
   "source": [
    "## Part 3: Feature Extraction 2: Punctuation marks"
   ]
  },
  {
   "cell_type": "code",
   "execution_count": 5,
   "metadata": {},
   "outputs": [],
   "source": [
    "import string"
   ]
  },
  {
   "cell_type": "code",
   "execution_count": 17,
   "metadata": {},
   "outputs": [
    {
     "name": "stdout",
     "output_type": "stream",
     "text": [
      "!\"#$%&'()*+,-./:;<=>?@[\\]^_`{|}~\n"
     ]
    }
   ],
   "source": [
    "print(string.punctuation)"
   ]
  },
  {
   "cell_type": "code",
   "execution_count": 6,
   "metadata": {},
   "outputs": [],
   "source": [
    "# General number of punctuation\n",
    "def all_punc_count(text):\n",
    "    result = 0\n",
    "    for i in text:\n",
    "        if i in string.punctuation:\n",
    "            result += 1\n",
    "    return result"
   ]
  },
  {
   "cell_type": "code",
   "execution_count": 19,
   "metadata": {},
   "outputs": [],
   "source": [
    "# Punc per word length\n",
    "news['all_punc_count_word'] = news['text'].apply(all_punc_count) / news['word_length']"
   ]
  },
  {
   "cell_type": "code",
   "execution_count": 20,
   "metadata": {
    "scrolled": true
   },
   "outputs": [
    {
     "data": {
      "text/html": [
       "<div>\n",
       "<style scoped>\n",
       "    .dataframe tbody tr th:only-of-type {\n",
       "        vertical-align: middle;\n",
       "    }\n",
       "\n",
       "    .dataframe tbody tr th {\n",
       "        vertical-align: top;\n",
       "    }\n",
       "\n",
       "    .dataframe thead th {\n",
       "        text-align: right;\n",
       "    }\n",
       "</style>\n",
       "<table border=\"1\" class=\"dataframe\">\n",
       "  <thead>\n",
       "    <tr style=\"text-align: right;\">\n",
       "      <th></th>\n",
       "      <th>r_or_f</th>\n",
       "      <th>title</th>\n",
       "      <th>text</th>\n",
       "      <th>subject</th>\n",
       "      <th>date</th>\n",
       "      <th>char_length</th>\n",
       "      <th>word_length</th>\n",
       "      <th>avg_char_word</th>\n",
       "      <th>capital_per_word_length</th>\n",
       "      <th>all_punc_count_word</th>\n",
       "    </tr>\n",
       "  </thead>\n",
       "  <tbody>\n",
       "    <tr>\n",
       "      <th>0</th>\n",
       "      <td>Real</td>\n",
       "      <td>As U.S. budget fight looms, Republicans flip t...</td>\n",
       "      <td>WASHINGTON (Reuters) - The head of a conservat...</td>\n",
       "      <td>politicsNews</td>\n",
       "      <td>31-Dec-17</td>\n",
       "      <td>4625</td>\n",
       "      <td>749</td>\n",
       "      <td>6.174900</td>\n",
       "      <td>0.206943</td>\n",
       "      <td>0.157543</td>\n",
       "    </tr>\n",
       "    <tr>\n",
       "      <th>1</th>\n",
       "      <td>Real</td>\n",
       "      <td>U.S. military to accept transgender recruits o...</td>\n",
       "      <td>WASHINGTON (Reuters) - Transgender people will...</td>\n",
       "      <td>politicsNews</td>\n",
       "      <td>29-Dec-17</td>\n",
       "      <td>4053</td>\n",
       "      <td>624</td>\n",
       "      <td>6.495192</td>\n",
       "      <td>0.190705</td>\n",
       "      <td>0.123397</td>\n",
       "    </tr>\n",
       "    <tr>\n",
       "      <th>2</th>\n",
       "      <td>Real</td>\n",
       "      <td>Senior U.S. Republican senator: 'Let Mr. Muell...</td>\n",
       "      <td>WASHINGTON (Reuters) - The special counsel inv...</td>\n",
       "      <td>politicsNews</td>\n",
       "      <td>31-Dec-17</td>\n",
       "      <td>2771</td>\n",
       "      <td>457</td>\n",
       "      <td>6.063457</td>\n",
       "      <td>0.256018</td>\n",
       "      <td>0.102845</td>\n",
       "    </tr>\n",
       "    <tr>\n",
       "      <th>3</th>\n",
       "      <td>Real</td>\n",
       "      <td>FBI Russia probe helped by Australian diplomat...</td>\n",
       "      <td>WASHINGTON (Reuters) - Trump campaign adviser ...</td>\n",
       "      <td>politicsNews</td>\n",
       "      <td>30-Dec-17</td>\n",
       "      <td>2449</td>\n",
       "      <td>376</td>\n",
       "      <td>6.513298</td>\n",
       "      <td>0.292553</td>\n",
       "      <td>0.135638</td>\n",
       "    </tr>\n",
       "    <tr>\n",
       "      <th>4</th>\n",
       "      <td>Real</td>\n",
       "      <td>Trump wants Postal Service to charge 'much mor...</td>\n",
       "      <td>SEATTLE/WASHINGTON (Reuters) - President Donal...</td>\n",
       "      <td>politicsNews</td>\n",
       "      <td>29-Dec-17</td>\n",
       "      <td>5186</td>\n",
       "      <td>852</td>\n",
       "      <td>6.086854</td>\n",
       "      <td>0.234742</td>\n",
       "      <td>0.159624</td>\n",
       "    </tr>\n",
       "  </tbody>\n",
       "</table>\n",
       "</div>"
      ],
      "text/plain": [
       "  r_or_f                                              title  \\\n",
       "0   Real  As U.S. budget fight looms, Republicans flip t...   \n",
       "1   Real  U.S. military to accept transgender recruits o...   \n",
       "2   Real  Senior U.S. Republican senator: 'Let Mr. Muell...   \n",
       "3   Real  FBI Russia probe helped by Australian diplomat...   \n",
       "4   Real  Trump wants Postal Service to charge 'much mor...   \n",
       "\n",
       "                                                text       subject       date  \\\n",
       "0  WASHINGTON (Reuters) - The head of a conservat...  politicsNews  31-Dec-17   \n",
       "1  WASHINGTON (Reuters) - Transgender people will...  politicsNews  29-Dec-17   \n",
       "2  WASHINGTON (Reuters) - The special counsel inv...  politicsNews  31-Dec-17   \n",
       "3  WASHINGTON (Reuters) - Trump campaign adviser ...  politicsNews  30-Dec-17   \n",
       "4  SEATTLE/WASHINGTON (Reuters) - President Donal...  politicsNews  29-Dec-17   \n",
       "\n",
       "   char_length  word_length  avg_char_word  capital_per_word_length  \\\n",
       "0         4625          749       6.174900                 0.206943   \n",
       "1         4053          624       6.495192                 0.190705   \n",
       "2         2771          457       6.063457                 0.256018   \n",
       "3         2449          376       6.513298                 0.292553   \n",
       "4         5186          852       6.086854                 0.234742   \n",
       "\n",
       "   all_punc_count_word  \n",
       "0             0.157543  \n",
       "1             0.123397  \n",
       "2             0.102845  \n",
       "3             0.135638  \n",
       "4             0.159624  "
      ]
     },
     "execution_count": 20,
     "metadata": {},
     "output_type": "execute_result"
    }
   ],
   "source": [
    "news.head()"
   ]
  },
  {
   "cell_type": "code",
   "execution_count": 7,
   "metadata": {},
   "outputs": [],
   "source": [
    "# For specific puncs\n",
    "def punc_occurences(text, punc_mark, word_length):\n",
    "    result = 0\n",
    "    for i in text:\n",
    "        if i == punc_mark:\n",
    "            result += 1\n",
    "    return result / word_length"
   ]
  },
  {
   "cell_type": "code",
   "execution_count": 22,
   "metadata": {},
   "outputs": [],
   "source": [
    "# Specific puncs\n",
    "for punc_mark in string.punctuation:\n",
    "    news[punc_mark] = news.apply(lambda x: punc_occurences(x['text'],punc_mark,x['word_length']), axis=1)"
   ]
  },
  {
   "cell_type": "code",
   "execution_count": 23,
   "metadata": {},
   "outputs": [
    {
     "data": {
      "text/html": [
       "<div>\n",
       "<style scoped>\n",
       "    .dataframe tbody tr th:only-of-type {\n",
       "        vertical-align: middle;\n",
       "    }\n",
       "\n",
       "    .dataframe tbody tr th {\n",
       "        vertical-align: top;\n",
       "    }\n",
       "\n",
       "    .dataframe thead th {\n",
       "        text-align: right;\n",
       "    }\n",
       "</style>\n",
       "<table border=\"1\" class=\"dataframe\">\n",
       "  <thead>\n",
       "    <tr style=\"text-align: right;\">\n",
       "      <th></th>\n",
       "      <th>r_or_f</th>\n",
       "      <th>title</th>\n",
       "      <th>text</th>\n",
       "      <th>subject</th>\n",
       "      <th>date</th>\n",
       "      <th>char_length</th>\n",
       "      <th>word_length</th>\n",
       "      <th>avg_char_word</th>\n",
       "      <th>capital_per_word_length</th>\n",
       "      <th>all_punc_count_word</th>\n",
       "      <th>...</th>\n",
       "      <th>[</th>\n",
       "      <th>\\</th>\n",
       "      <th>]</th>\n",
       "      <th>^</th>\n",
       "      <th>_</th>\n",
       "      <th>`</th>\n",
       "      <th>{</th>\n",
       "      <th>|</th>\n",
       "      <th>}</th>\n",
       "      <th>~</th>\n",
       "    </tr>\n",
       "  </thead>\n",
       "  <tbody>\n",
       "    <tr>\n",
       "      <th>0</th>\n",
       "      <td>Real</td>\n",
       "      <td>As U.S. budget fight looms, Republicans flip t...</td>\n",
       "      <td>WASHINGTON (Reuters) - The head of a conservat...</td>\n",
       "      <td>politicsNews</td>\n",
       "      <td>31-Dec-17</td>\n",
       "      <td>4625</td>\n",
       "      <td>749</td>\n",
       "      <td>6.174900</td>\n",
       "      <td>0.206943</td>\n",
       "      <td>0.157543</td>\n",
       "      <td>...</td>\n",
       "      <td>0.0</td>\n",
       "      <td>0.0</td>\n",
       "      <td>0.0</td>\n",
       "      <td>0.0</td>\n",
       "      <td>0.0</td>\n",
       "      <td>0.0</td>\n",
       "      <td>0.0</td>\n",
       "      <td>0.0</td>\n",
       "      <td>0.0</td>\n",
       "      <td>0.0</td>\n",
       "    </tr>\n",
       "    <tr>\n",
       "      <th>1</th>\n",
       "      <td>Real</td>\n",
       "      <td>U.S. military to accept transgender recruits o...</td>\n",
       "      <td>WASHINGTON (Reuters) - Transgender people will...</td>\n",
       "      <td>politicsNews</td>\n",
       "      <td>29-Dec-17</td>\n",
       "      <td>4053</td>\n",
       "      <td>624</td>\n",
       "      <td>6.495192</td>\n",
       "      <td>0.190705</td>\n",
       "      <td>0.123397</td>\n",
       "      <td>...</td>\n",
       "      <td>0.0</td>\n",
       "      <td>0.0</td>\n",
       "      <td>0.0</td>\n",
       "      <td>0.0</td>\n",
       "      <td>0.0</td>\n",
       "      <td>0.0</td>\n",
       "      <td>0.0</td>\n",
       "      <td>0.0</td>\n",
       "      <td>0.0</td>\n",
       "      <td>0.0</td>\n",
       "    </tr>\n",
       "    <tr>\n",
       "      <th>2</th>\n",
       "      <td>Real</td>\n",
       "      <td>Senior U.S. Republican senator: 'Let Mr. Muell...</td>\n",
       "      <td>WASHINGTON (Reuters) - The special counsel inv...</td>\n",
       "      <td>politicsNews</td>\n",
       "      <td>31-Dec-17</td>\n",
       "      <td>2771</td>\n",
       "      <td>457</td>\n",
       "      <td>6.063457</td>\n",
       "      <td>0.256018</td>\n",
       "      <td>0.102845</td>\n",
       "      <td>...</td>\n",
       "      <td>0.0</td>\n",
       "      <td>0.0</td>\n",
       "      <td>0.0</td>\n",
       "      <td>0.0</td>\n",
       "      <td>0.0</td>\n",
       "      <td>0.0</td>\n",
       "      <td>0.0</td>\n",
       "      <td>0.0</td>\n",
       "      <td>0.0</td>\n",
       "      <td>0.0</td>\n",
       "    </tr>\n",
       "    <tr>\n",
       "      <th>3</th>\n",
       "      <td>Real</td>\n",
       "      <td>FBI Russia probe helped by Australian diplomat...</td>\n",
       "      <td>WASHINGTON (Reuters) - Trump campaign adviser ...</td>\n",
       "      <td>politicsNews</td>\n",
       "      <td>30-Dec-17</td>\n",
       "      <td>2449</td>\n",
       "      <td>376</td>\n",
       "      <td>6.513298</td>\n",
       "      <td>0.292553</td>\n",
       "      <td>0.135638</td>\n",
       "      <td>...</td>\n",
       "      <td>0.0</td>\n",
       "      <td>0.0</td>\n",
       "      <td>0.0</td>\n",
       "      <td>0.0</td>\n",
       "      <td>0.0</td>\n",
       "      <td>0.0</td>\n",
       "      <td>0.0</td>\n",
       "      <td>0.0</td>\n",
       "      <td>0.0</td>\n",
       "      <td>0.0</td>\n",
       "    </tr>\n",
       "    <tr>\n",
       "      <th>4</th>\n",
       "      <td>Real</td>\n",
       "      <td>Trump wants Postal Service to charge 'much mor...</td>\n",
       "      <td>SEATTLE/WASHINGTON (Reuters) - President Donal...</td>\n",
       "      <td>politicsNews</td>\n",
       "      <td>29-Dec-17</td>\n",
       "      <td>5186</td>\n",
       "      <td>852</td>\n",
       "      <td>6.086854</td>\n",
       "      <td>0.234742</td>\n",
       "      <td>0.159624</td>\n",
       "      <td>...</td>\n",
       "      <td>0.0</td>\n",
       "      <td>0.0</td>\n",
       "      <td>0.0</td>\n",
       "      <td>0.0</td>\n",
       "      <td>0.0</td>\n",
       "      <td>0.0</td>\n",
       "      <td>0.0</td>\n",
       "      <td>0.0</td>\n",
       "      <td>0.0</td>\n",
       "      <td>0.0</td>\n",
       "    </tr>\n",
       "  </tbody>\n",
       "</table>\n",
       "<p>5 rows × 42 columns</p>\n",
       "</div>"
      ],
      "text/plain": [
       "  r_or_f                                              title  \\\n",
       "0   Real  As U.S. budget fight looms, Republicans flip t...   \n",
       "1   Real  U.S. military to accept transgender recruits o...   \n",
       "2   Real  Senior U.S. Republican senator: 'Let Mr. Muell...   \n",
       "3   Real  FBI Russia probe helped by Australian diplomat...   \n",
       "4   Real  Trump wants Postal Service to charge 'much mor...   \n",
       "\n",
       "                                                text       subject       date  \\\n",
       "0  WASHINGTON (Reuters) - The head of a conservat...  politicsNews  31-Dec-17   \n",
       "1  WASHINGTON (Reuters) - Transgender people will...  politicsNews  29-Dec-17   \n",
       "2  WASHINGTON (Reuters) - The special counsel inv...  politicsNews  31-Dec-17   \n",
       "3  WASHINGTON (Reuters) - Trump campaign adviser ...  politicsNews  30-Dec-17   \n",
       "4  SEATTLE/WASHINGTON (Reuters) - President Donal...  politicsNews  29-Dec-17   \n",
       "\n",
       "   char_length  word_length  avg_char_word  capital_per_word_length  \\\n",
       "0         4625          749       6.174900                 0.206943   \n",
       "1         4053          624       6.495192                 0.190705   \n",
       "2         2771          457       6.063457                 0.256018   \n",
       "3         2449          376       6.513298                 0.292553   \n",
       "4         5186          852       6.086854                 0.234742   \n",
       "\n",
       "   all_punc_count_word  ...    [    \\    ]    ^    _    `    {    |    }    ~  \n",
       "0             0.157543  ...  0.0  0.0  0.0  0.0  0.0  0.0  0.0  0.0  0.0  0.0  \n",
       "1             0.123397  ...  0.0  0.0  0.0  0.0  0.0  0.0  0.0  0.0  0.0  0.0  \n",
       "2             0.102845  ...  0.0  0.0  0.0  0.0  0.0  0.0  0.0  0.0  0.0  0.0  \n",
       "3             0.135638  ...  0.0  0.0  0.0  0.0  0.0  0.0  0.0  0.0  0.0  0.0  \n",
       "4             0.159624  ...  0.0  0.0  0.0  0.0  0.0  0.0  0.0  0.0  0.0  0.0  \n",
       "\n",
       "[5 rows x 42 columns]"
      ]
     },
     "execution_count": 23,
     "metadata": {},
     "output_type": "execute_result"
    }
   ],
   "source": [
    "news.head()"
   ]
  },
  {
   "cell_type": "code",
   "execution_count": 24,
   "metadata": {},
   "outputs": [
    {
     "data": {
      "text/html": [
       "<div>\n",
       "<style scoped>\n",
       "    .dataframe tbody tr th:only-of-type {\n",
       "        vertical-align: middle;\n",
       "    }\n",
       "\n",
       "    .dataframe tbody tr th {\n",
       "        vertical-align: top;\n",
       "    }\n",
       "\n",
       "    .dataframe thead th {\n",
       "        text-align: right;\n",
       "    }\n",
       "</style>\n",
       "<table border=\"1\" class=\"dataframe\">\n",
       "  <thead>\n",
       "    <tr style=\"text-align: right;\">\n",
       "      <th></th>\n",
       "      <th>title</th>\n",
       "      <th>word_length</th>\n",
       "      <th>!</th>\n",
       "    </tr>\n",
       "  </thead>\n",
       "  <tbody>\n",
       "    <tr>\n",
       "      <th>4</th>\n",
       "      <td>Trump wants Postal Service to charge 'much mor...</td>\n",
       "      <td>852</td>\n",
       "      <td>0.001174</td>\n",
       "    </tr>\n",
       "    <tr>\n",
       "      <th>7</th>\n",
       "      <td>Factbox: Trump on Twitter (Dec 29) - Approval ...</td>\n",
       "      <td>133</td>\n",
       "      <td>0.015038</td>\n",
       "    </tr>\n",
       "    <tr>\n",
       "      <th>8</th>\n",
       "      <td>Trump on Twitter (Dec 28) - Global Warming</td>\n",
       "      <td>98</td>\n",
       "      <td>0.020408</td>\n",
       "    </tr>\n",
       "    <tr>\n",
       "      <th>12</th>\n",
       "      <td>Factbox: Trump on Twitter (Dec 28) - Vanity Fa...</td>\n",
       "      <td>97</td>\n",
       "      <td>0.010309</td>\n",
       "    </tr>\n",
       "    <tr>\n",
       "      <th>13</th>\n",
       "      <td>Trump on Twitter (Dec 27) - Trump, Iraq, Syria</td>\n",
       "      <td>190</td>\n",
       "      <td>0.005263</td>\n",
       "    </tr>\n",
       "  </tbody>\n",
       "</table>\n",
       "</div>"
      ],
      "text/plain": [
       "                                                title  word_length         !\n",
       "4   Trump wants Postal Service to charge 'much mor...          852  0.001174\n",
       "7   Factbox: Trump on Twitter (Dec 29) - Approval ...          133  0.015038\n",
       "8          Trump on Twitter (Dec 28) - Global Warming           98  0.020408\n",
       "12  Factbox: Trump on Twitter (Dec 28) - Vanity Fa...           97  0.010309\n",
       "13     Trump on Twitter (Dec 27) - Trump, Iraq, Syria          190  0.005263"
      ]
     },
     "execution_count": 24,
     "metadata": {},
     "output_type": "execute_result"
    }
   ],
   "source": [
    "# Example where there is some punctuation\n",
    "news[news['!'] != 0][['title','word_length','!']].head()"
   ]
  },
  {
   "cell_type": "markdown",
   "metadata": {},
   "source": [
    "## Part 4: Feature Extraction 3: Stopwords\n",
    "Is there a correlation with the proportion of stopwords?"
   ]
  },
  {
   "cell_type": "code",
   "execution_count": 8,
   "metadata": {},
   "outputs": [],
   "source": [
    "from nltk.corpus import stopwords"
   ]
  },
  {
   "cell_type": "code",
   "execution_count": 9,
   "metadata": {},
   "outputs": [],
   "source": [
    "def stopword_count(text, word_length):\n",
    "    result = 0\n",
    "    for word in text.lower().split():\n",
    "        if word in stopwords.words('english'):\n",
    "            result += 1\n",
    "    return result / word_length"
   ]
  },
  {
   "cell_type": "code",
   "execution_count": 27,
   "metadata": {},
   "outputs": [],
   "source": [
    "news['stopword_ratio'] = news.apply(lambda x: stopword_count(x['text'],x['word_length']), axis=1)"
   ]
  },
  {
   "cell_type": "code",
   "execution_count": 28,
   "metadata": {},
   "outputs": [
    {
     "data": {
      "text/html": [
       "<div>\n",
       "<style scoped>\n",
       "    .dataframe tbody tr th:only-of-type {\n",
       "        vertical-align: middle;\n",
       "    }\n",
       "\n",
       "    .dataframe tbody tr th {\n",
       "        vertical-align: top;\n",
       "    }\n",
       "\n",
       "    .dataframe thead th {\n",
       "        text-align: right;\n",
       "    }\n",
       "</style>\n",
       "<table border=\"1\" class=\"dataframe\">\n",
       "  <thead>\n",
       "    <tr style=\"text-align: right;\">\n",
       "      <th></th>\n",
       "      <th>r_or_f</th>\n",
       "      <th>title</th>\n",
       "      <th>text</th>\n",
       "      <th>subject</th>\n",
       "      <th>date</th>\n",
       "      <th>char_length</th>\n",
       "      <th>word_length</th>\n",
       "      <th>avg_char_word</th>\n",
       "      <th>capital_per_word_length</th>\n",
       "      <th>all_punc_count_word</th>\n",
       "      <th>...</th>\n",
       "      <th>\\</th>\n",
       "      <th>]</th>\n",
       "      <th>^</th>\n",
       "      <th>_</th>\n",
       "      <th>`</th>\n",
       "      <th>{</th>\n",
       "      <th>|</th>\n",
       "      <th>}</th>\n",
       "      <th>~</th>\n",
       "      <th>stopword_ratio</th>\n",
       "    </tr>\n",
       "  </thead>\n",
       "  <tbody>\n",
       "    <tr>\n",
       "      <th>0</th>\n",
       "      <td>Real</td>\n",
       "      <td>As U.S. budget fight looms, Republicans flip t...</td>\n",
       "      <td>WASHINGTON (Reuters) - The head of a conservat...</td>\n",
       "      <td>politicsNews</td>\n",
       "      <td>31-Dec-17</td>\n",
       "      <td>4625</td>\n",
       "      <td>749</td>\n",
       "      <td>6.174900</td>\n",
       "      <td>0.206943</td>\n",
       "      <td>0.157543</td>\n",
       "      <td>...</td>\n",
       "      <td>0.0</td>\n",
       "      <td>0.0</td>\n",
       "      <td>0.0</td>\n",
       "      <td>0.0</td>\n",
       "      <td>0.0</td>\n",
       "      <td>0.0</td>\n",
       "      <td>0.0</td>\n",
       "      <td>0.0</td>\n",
       "      <td>0.0</td>\n",
       "      <td>0.384513</td>\n",
       "    </tr>\n",
       "    <tr>\n",
       "      <th>1</th>\n",
       "      <td>Real</td>\n",
       "      <td>U.S. military to accept transgender recruits o...</td>\n",
       "      <td>WASHINGTON (Reuters) - Transgender people will...</td>\n",
       "      <td>politicsNews</td>\n",
       "      <td>29-Dec-17</td>\n",
       "      <td>4053</td>\n",
       "      <td>624</td>\n",
       "      <td>6.495192</td>\n",
       "      <td>0.190705</td>\n",
       "      <td>0.123397</td>\n",
       "      <td>...</td>\n",
       "      <td>0.0</td>\n",
       "      <td>0.0</td>\n",
       "      <td>0.0</td>\n",
       "      <td>0.0</td>\n",
       "      <td>0.0</td>\n",
       "      <td>0.0</td>\n",
       "      <td>0.0</td>\n",
       "      <td>0.0</td>\n",
       "      <td>0.0</td>\n",
       "      <td>0.379808</td>\n",
       "    </tr>\n",
       "    <tr>\n",
       "      <th>2</th>\n",
       "      <td>Real</td>\n",
       "      <td>Senior U.S. Republican senator: 'Let Mr. Muell...</td>\n",
       "      <td>WASHINGTON (Reuters) - The special counsel inv...</td>\n",
       "      <td>politicsNews</td>\n",
       "      <td>31-Dec-17</td>\n",
       "      <td>2771</td>\n",
       "      <td>457</td>\n",
       "      <td>6.063457</td>\n",
       "      <td>0.256018</td>\n",
       "      <td>0.102845</td>\n",
       "      <td>...</td>\n",
       "      <td>0.0</td>\n",
       "      <td>0.0</td>\n",
       "      <td>0.0</td>\n",
       "      <td>0.0</td>\n",
       "      <td>0.0</td>\n",
       "      <td>0.0</td>\n",
       "      <td>0.0</td>\n",
       "      <td>0.0</td>\n",
       "      <td>0.0</td>\n",
       "      <td>0.411379</td>\n",
       "    </tr>\n",
       "    <tr>\n",
       "      <th>3</th>\n",
       "      <td>Real</td>\n",
       "      <td>FBI Russia probe helped by Australian diplomat...</td>\n",
       "      <td>WASHINGTON (Reuters) - Trump campaign adviser ...</td>\n",
       "      <td>politicsNews</td>\n",
       "      <td>30-Dec-17</td>\n",
       "      <td>2449</td>\n",
       "      <td>376</td>\n",
       "      <td>6.513298</td>\n",
       "      <td>0.292553</td>\n",
       "      <td>0.135638</td>\n",
       "      <td>...</td>\n",
       "      <td>0.0</td>\n",
       "      <td>0.0</td>\n",
       "      <td>0.0</td>\n",
       "      <td>0.0</td>\n",
       "      <td>0.0</td>\n",
       "      <td>0.0</td>\n",
       "      <td>0.0</td>\n",
       "      <td>0.0</td>\n",
       "      <td>0.0</td>\n",
       "      <td>0.380319</td>\n",
       "    </tr>\n",
       "    <tr>\n",
       "      <th>4</th>\n",
       "      <td>Real</td>\n",
       "      <td>Trump wants Postal Service to charge 'much mor...</td>\n",
       "      <td>SEATTLE/WASHINGTON (Reuters) - President Donal...</td>\n",
       "      <td>politicsNews</td>\n",
       "      <td>29-Dec-17</td>\n",
       "      <td>5186</td>\n",
       "      <td>852</td>\n",
       "      <td>6.086854</td>\n",
       "      <td>0.234742</td>\n",
       "      <td>0.159624</td>\n",
       "      <td>...</td>\n",
       "      <td>0.0</td>\n",
       "      <td>0.0</td>\n",
       "      <td>0.0</td>\n",
       "      <td>0.0</td>\n",
       "      <td>0.0</td>\n",
       "      <td>0.0</td>\n",
       "      <td>0.0</td>\n",
       "      <td>0.0</td>\n",
       "      <td>0.0</td>\n",
       "      <td>0.395540</td>\n",
       "    </tr>\n",
       "  </tbody>\n",
       "</table>\n",
       "<p>5 rows × 43 columns</p>\n",
       "</div>"
      ],
      "text/plain": [
       "  r_or_f                                              title  \\\n",
       "0   Real  As U.S. budget fight looms, Republicans flip t...   \n",
       "1   Real  U.S. military to accept transgender recruits o...   \n",
       "2   Real  Senior U.S. Republican senator: 'Let Mr. Muell...   \n",
       "3   Real  FBI Russia probe helped by Australian diplomat...   \n",
       "4   Real  Trump wants Postal Service to charge 'much mor...   \n",
       "\n",
       "                                                text       subject       date  \\\n",
       "0  WASHINGTON (Reuters) - The head of a conservat...  politicsNews  31-Dec-17   \n",
       "1  WASHINGTON (Reuters) - Transgender people will...  politicsNews  29-Dec-17   \n",
       "2  WASHINGTON (Reuters) - The special counsel inv...  politicsNews  31-Dec-17   \n",
       "3  WASHINGTON (Reuters) - Trump campaign adviser ...  politicsNews  30-Dec-17   \n",
       "4  SEATTLE/WASHINGTON (Reuters) - President Donal...  politicsNews  29-Dec-17   \n",
       "\n",
       "   char_length  word_length  avg_char_word  capital_per_word_length  \\\n",
       "0         4625          749       6.174900                 0.206943   \n",
       "1         4053          624       6.495192                 0.190705   \n",
       "2         2771          457       6.063457                 0.256018   \n",
       "3         2449          376       6.513298                 0.292553   \n",
       "4         5186          852       6.086854                 0.234742   \n",
       "\n",
       "   all_punc_count_word  ...    \\    ]    ^    _    `    {    |    }    ~  \\\n",
       "0             0.157543  ...  0.0  0.0  0.0  0.0  0.0  0.0  0.0  0.0  0.0   \n",
       "1             0.123397  ...  0.0  0.0  0.0  0.0  0.0  0.0  0.0  0.0  0.0   \n",
       "2             0.102845  ...  0.0  0.0  0.0  0.0  0.0  0.0  0.0  0.0  0.0   \n",
       "3             0.135638  ...  0.0  0.0  0.0  0.0  0.0  0.0  0.0  0.0  0.0   \n",
       "4             0.159624  ...  0.0  0.0  0.0  0.0  0.0  0.0  0.0  0.0  0.0   \n",
       "\n",
       "   stopword_ratio  \n",
       "0        0.384513  \n",
       "1        0.379808  \n",
       "2        0.411379  \n",
       "3        0.380319  \n",
       "4        0.395540  \n",
       "\n",
       "[5 rows x 43 columns]"
      ]
     },
     "execution_count": 28,
     "metadata": {},
     "output_type": "execute_result"
    }
   ],
   "source": [
    "news.head()"
   ]
  },
  {
   "cell_type": "code",
   "execution_count": 29,
   "metadata": {},
   "outputs": [
    {
     "name": "stdout",
     "output_type": "stream",
     "text": [
      "0 r_or_f                                                                  Real\n",
      "title                      As U.S. budget fight looms, Republicans flip t...\n",
      "text                       WASHINGTON (Reuters) - The head of a conservat...\n",
      "subject                                                         politicsNews\n",
      "date                                                               31-Dec-17\n",
      "char_length                                                             4625\n",
      "word_length                                                              749\n",
      "avg_char_word                                                         6.1749\n",
      "capital_per_word_length                                             0.206943\n",
      "all_punc_count_word                                                 0.157543\n",
      "!                                                                        0.0\n",
      "\"                                                                        0.0\n",
      "#                                                                        0.0\n",
      "$                                                                   0.006676\n",
      "%                                                                        0.0\n",
      "&                                                                        0.0\n",
      "'                                                                        0.0\n",
      "(                                                                    0.00267\n",
      ")                                                                    0.00267\n",
      "*                                                                        0.0\n",
      "+                                                                        0.0\n",
      ",                                                                   0.072096\n",
      "-                                                                   0.006676\n",
      ".                                                                   0.065421\n",
      "/                                                                        0.0\n",
      ":                                                                   0.001335\n",
      ";                                                                        0.0\n",
      "<                                                                        0.0\n",
      "=                                                                        0.0\n",
      ">                                                                        0.0\n",
      "?                                                                        0.0\n",
      "@                                                                        0.0\n",
      "[                                                                        0.0\n",
      "\\                                                                        0.0\n",
      "]                                                                        0.0\n",
      "^                                                                        0.0\n",
      "_                                                                        0.0\n",
      "`                                                                        0.0\n",
      "{                                                                        0.0\n",
      "|                                                                        0.0\n",
      "}                                                                        0.0\n",
      "~                                                                        0.0\n",
      "stopword_ratio                                                      0.384513\n",
      "Name: 0, dtype: object\n"
     ]
    }
   ],
   "source": [
    "# Let's see what a full row looks like!\n",
    "for i,j in news.head(1).iterrows():\n",
    "    print(i,j)"
   ]
  },
  {
   "cell_type": "code",
   "execution_count": 34,
   "metadata": {},
   "outputs": [
    {
     "data": {
      "text/plain": [
       "stopword_ratio             0.434213\n",
       "@                          0.220587\n",
       "(                          0.138323\n",
       "!                          0.137431\n",
       ")                          0.136638\n",
       ":                          0.128641\n",
       "%                          0.099310\n",
       "#                          0.094783\n",
       "?                          0.082624\n",
       "\"                          0.080606\n",
       "word_length                0.061387\n",
       "/                          0.057453\n",
       "all_punc_count_word        0.048495\n",
       "'                          0.048084\n",
       "[                          0.046935\n",
       "capital_per_word_length    0.046512\n",
       "<                          0.044548\n",
       "char_length                0.042312\n",
       "]                          0.041437\n",
       "=                          0.040691\n",
       "|                          0.035662\n",
       ">                          0.033248\n",
       ";                          0.030306\n",
       "_                          0.028561\n",
       ",                          0.027499\n",
       "~                          0.027173\n",
       "&                          0.026832\n",
       "$                          0.024902\n",
       "+                          0.024608\n",
       "*                          0.021300\n",
       "}                          0.019746\n",
       "-                          0.019610\n",
       "{                          0.019478\n",
       "avg_char_word              0.014703\n",
       "^                          0.008076\n",
       "\\                          0.007651\n",
       "`                          0.005249\n",
       ".                          0.000114\n",
       "Name: real_0_fake_1, dtype: float64"
      ]
     },
     "execution_count": 34,
     "metadata": {},
     "output_type": "execute_result"
    }
   ],
   "source": [
    "# Correlation of all feature columns to real/fake\n",
    "# How correlated are the features to being real or fake?\n",
    "# Correlation of all feature columns to real/fake\n",
    "# How correlated are the features to being real or fake?\n",
    "abs(news[news.columns[4:]].corr()['real_0_fake_1'][:-1]).sort_values(ascending=False)"
   ]
  },
  {
   "cell_type": "code",
   "execution_count": 35,
   "metadata": {},
   "outputs": [
    {
     "data": {
      "text/plain": [
       "Text(0.5, 1.0, 'Proportion of Stopwords')"
      ]
     },
     "execution_count": 35,
     "metadata": {},
     "output_type": "execute_result"
    },
    {
     "data": {
      "image/png": "[encoded data removed]",
      "text/plain": [
       "<Figure size 432x288 with 1 Axes>"
      ]
     },
     "metadata": {
      "needs_background": "light"
     },
     "output_type": "display_data"
    }
   ],
   "source": [
    "# We can see that fake news articles have generally more stopwords\n",
    "sns.violinplot(x='r_or_f', y='stopword_ratio',data=news)\n",
    "plt.title('Proportion of Stopwords')"
   ]
  },
  {
   "cell_type": "code",
   "execution_count": 33,
   "metadata": {},
   "outputs": [],
   "source": [
    "# Save dataframe into a csv\n",
    "# news.to_csv('fullrnnfeatures.csv',encoding='utf-8',index=False)"
   ]
  },
  {
   "cell_type": "code",
   "execution_count": 10,
   "metadata": {},
   "outputs": [],
   "source": [
    "# Load in df\n",
    "# news = pd.read_csv('fullrnnfeatures.csv')"
   ]
  },
  {
   "cell_type": "markdown",
   "metadata": {},
   "source": [
    "## Part 5: Train test split, scaling\n",
    "70-30% train test split, minmaxscaler to scale features such as word count"
   ]
  },
  {
   "cell_type": "code",
   "execution_count": 30,
   "metadata": {},
   "outputs": [
    {
     "data": {
      "text/plain": [
       "Index(['r_or_f', 'title', 'text', 'subject', 'date', 'char_length',\n",
       "       'word_length', 'avg_char_word', 'capital_per_word_length',\n",
       "       'all_punc_count_word', '!', '\"', '#', '$', '%', '&', ''', '(', ')', '*',\n",
       "       '+', ',', '-', '.', '/', ':', ';', '<', '=', '>', '?', '@', '[', '\\',\n",
       "       ']', '^', '_', '`', '{', '|', '}', '~', 'stopword_ratio'],\n",
       "      dtype='object')"
      ]
     },
     "execution_count": 30,
     "metadata": {},
     "output_type": "execute_result"
    }
   ],
   "source": [
    "news.columns"
   ]
  },
  {
   "cell_type": "code",
   "execution_count": 31,
   "metadata": {},
   "outputs": [],
   "source": [
    "# Turn real/fake into a dummy variable of 0 or 1\n",
    "def zero_one (rf):\n",
    "    if rf == \"Real\":\n",
    "        return 0\n",
    "    elif rf == \"Fake\":\n",
    "        return 1"
   ]
  },
  {
   "cell_type": "code",
   "execution_count": 32,
   "metadata": {},
   "outputs": [],
   "source": [
    "news['real_0_fake_1'] = news['r_or_f'].apply(lambda x: zero_one(x))"
   ]
  },
  {
   "cell_type": "code",
   "execution_count": 36,
   "metadata": {},
   "outputs": [],
   "source": [
    "X = news.drop(['r_or_f','title','text', 'subject','date','real_0_fake_1'],axis=1).values\n",
    "y = news['real_0_fake_1'].values"
   ]
  },
  {
   "cell_type": "code",
   "execution_count": 12,
   "metadata": {},
   "outputs": [],
   "source": [
    "from sklearn.model_selection import train_test_split"
   ]
  },
  {
   "cell_type": "code",
   "execution_count": 13,
   "metadata": {},
   "outputs": [],
   "source": [
    "X_train, X_test, y_train, y_test = train_test_split(X, y, test_size=0.3, random_state=101)"
   ]
  },
  {
   "cell_type": "code",
   "execution_count": 14,
   "metadata": {},
   "outputs": [],
   "source": [
    "# Perform scaling post split to prevent data leakage\n",
    "from sklearn.preprocessing import MinMaxScaler"
   ]
  },
  {
   "cell_type": "code",
   "execution_count": 15,
   "metadata": {},
   "outputs": [],
   "source": [
    "scaler = MinMaxScaler()"
   ]
  },
  {
   "cell_type": "code",
   "execution_count": 16,
   "metadata": {},
   "outputs": [],
   "source": [
    "# use fit_transform to fit and transform in one line\n",
    "X_train = scaler.fit_transform(X_train)"
   ]
  },
  {
   "cell_type": "code",
   "execution_count": 17,
   "metadata": {},
   "outputs": [],
   "source": [
    "X_test = scaler.transform(X_test)"
   ]
  },
  {
   "cell_type": "markdown",
   "metadata": {},
   "source": [
    "## Part 6: TensorFlow Model Creation\n",
    "Use backpropagation and deep neural networks to create a model. Use early stopping and dropout layers to prevent overfitting."
   ]
  },
  {
   "cell_type": "code",
   "execution_count": 47,
   "metadata": {},
   "outputs": [],
   "source": [
    "from tensorflow.keras.models import Sequential\n",
    "from tensorflow.keras.layers import Dense,Dropout\n",
    "from tensorflow.keras.callbacks import EarlyStopping"
   ]
  },
  {
   "cell_type": "code",
   "execution_count": 48,
   "metadata": {},
   "outputs": [
    {
     "data": {
      "text/plain": [
       "(27050, 38)"
      ]
     },
     "execution_count": 48,
     "metadata": {},
     "output_type": "execute_result"
    }
   ],
   "source": [
    "# 27050 rows and 38 features, let's go with 38 layers\n",
    "X_train.shape"
   ]
  },
  {
   "cell_type": "code",
   "execution_count": 49,
   "metadata": {},
   "outputs": [],
   "source": [
    "# Early stopping\n",
    "early_stop = EarlyStopping(monitor='val_loss',mode='min',verbose=1,\n",
    "                          patience=25)"
   ]
  },
  {
   "cell_type": "code",
   "execution_count": 51,
   "metadata": {},
   "outputs": [],
   "source": [
    "# Binary classification problem, use sigmoid for result layer\n",
    "model = Sequential()\n",
    "\n",
    "model.add(Dense(38,activation='relu'))\n",
    "model.add(Dropout(0.5)) # Turns off half of 38 neurons each batch\n",
    "\n",
    "model.add(Dense(19,activation='relu'))\n",
    "model.add(Dropout(0.5))\n",
    "\n",
    "model.add(Dense(1,activation='sigmoid')) # BINARY CLASSIFICATION\n",
    "\n",
    "model.compile(loss='binary_crossentropy',optimizer='adam')"
   ]
  },
  {
   "cell_type": "code",
   "execution_count": 52,
   "metadata": {},
   "outputs": [
    {
     "name": "stderr",
     "output_type": "stream",
     "text": [
      "2022-03-12 08:42:48.217893: I tensorflow/compiler/mlir/mlir_graph_optimization_pass.cc:176] None of the MLIR Optimization Passes are enabled (registered 2)\n",
      "2022-03-12 08:42:48.236383: I tensorflow/core/platform/profile_utils/cpu_utils.cc:114] CPU Frequency: 2999995000 Hz\n"
     ]
    },
    {
     "name": "stdout",
     "output_type": "stream",
     "text": [
      "Epoch 1/5000\n",
      "846/846 [==============================] - 1s 897us/step - loss: 0.6167 - val_loss: 0.3720\n",
      "Epoch 2/5000\n",
      "846/846 [==============================] - 1s 783us/step - loss: 0.3325 - val_loss: 0.2243\n",
      "Epoch 3/5000\n",
      "846/846 [==============================] - 1s 783us/step - loss: 0.2672 - val_loss: 0.1966\n",
      "Epoch 4/5000\n",
      "846/846 [==============================] - 1s 786us/step - loss: 0.2404 - val_loss: 0.1825\n",
      "Epoch 5/5000\n",
      "846/846 [==============================] - 1s 788us/step - loss: 0.2281 - val_loss: 0.1892\n",
      "Epoch 6/5000\n",
      "846/846 [==============================] - 1s 777us/step - loss: 0.2200 - val_loss: 0.1683\n",
      "Epoch 7/5000\n",
      "846/846 [==============================] - 1s 782us/step - loss: 0.2099 - val_loss: 0.1615\n",
      "Epoch 8/5000\n",
      "846/846 [==============================] - 1s 789us/step - loss: 0.2052 - val_loss: 0.1570\n",
      "Epoch 9/5000\n",
      "846/846 [==============================] - 1s 781us/step - loss: 0.2003 - val_loss: 0.1577\n",
      "Epoch 10/5000\n",
      "846/846 [==============================] - 1s 780us/step - loss: 0.1964 - val_loss: 0.1494\n",
      "Epoch 11/5000\n",
      "846/846 [==============================] - 1s 785us/step - loss: 0.1946 - val_loss: 0.1472\n",
      "Epoch 12/5000\n",
      "846/846 [==============================] - 1s 794us/step - loss: 0.1879 - val_loss: 0.1447\n",
      "Epoch 13/5000\n",
      "846/846 [==============================] - 1s 786us/step - loss: 0.1874 - val_loss: 0.1423\n",
      "Epoch 14/5000\n",
      "846/846 [==============================] - 1s 779us/step - loss: 0.1846 - val_loss: 0.1709\n",
      "Epoch 15/5000\n",
      "846/846 [==============================] - 1s 785us/step - loss: 0.1845 - val_loss: 0.1394\n",
      "Epoch 16/5000\n",
      "846/846 [==============================] - 1s 786us/step - loss: 0.1805 - val_loss: 0.1463\n",
      "Epoch 17/5000\n",
      "846/846 [==============================] - 1s 783us/step - loss: 0.1768 - val_loss: 0.1343\n",
      "Epoch 18/5000\n",
      "846/846 [==============================] - 1s 794us/step - loss: 0.1776 - val_loss: 0.1422\n",
      "Epoch 19/5000\n",
      "846/846 [==============================] - 1s 788us/step - loss: 0.1748 - val_loss: 0.1361\n",
      "Epoch 20/5000\n",
      "846/846 [==============================] - 1s 789us/step - loss: 0.1744 - val_loss: 0.1294\n",
      "Epoch 21/5000\n",
      "846/846 [==============================] - 1s 805us/step - loss: 0.1722 - val_loss: 0.1313\n",
      "Epoch 22/5000\n",
      "846/846 [==============================] - 1s 780us/step - loss: 0.1703 - val_loss: 0.1311\n",
      "Epoch 23/5000\n",
      "846/846 [==============================] - 1s 784us/step - loss: 0.1661 - val_loss: 0.1253\n",
      "Epoch 24/5000\n",
      "846/846 [==============================] - 1s 782us/step - loss: 0.1677 - val_loss: 0.1257\n",
      "Epoch 25/5000\n",
      "846/846 [==============================] - 1s 787us/step - loss: 0.1652 - val_loss: 0.1276\n",
      "Epoch 26/5000\n",
      "846/846 [==============================] - 1s 783us/step - loss: 0.1697 - val_loss: 0.1248\n",
      "Epoch 27/5000\n",
      "846/846 [==============================] - 1s 791us/step - loss: 0.1632 - val_loss: 0.1337\n",
      "Epoch 28/5000\n",
      "846/846 [==============================] - 1s 784us/step - loss: 0.1610 - val_loss: 0.1361\n",
      "Epoch 29/5000\n",
      "846/846 [==============================] - 1s 793us/step - loss: 0.1618 - val_loss: 0.1276\n",
      "Epoch 30/5000\n",
      "846/846 [==============================] - 1s 796us/step - loss: 0.1615 - val_loss: 0.1382\n",
      "Epoch 31/5000\n",
      "846/846 [==============================] - 1s 787us/step - loss: 0.1622 - val_loss: 0.1282\n",
      "Epoch 32/5000\n",
      "846/846 [==============================] - 1s 781us/step - loss: 0.1643 - val_loss: 0.1212\n",
      "Epoch 33/5000\n",
      "846/846 [==============================] - 1s 784us/step - loss: 0.1603 - val_loss: 0.1263\n",
      "Epoch 34/5000\n",
      "846/846 [==============================] - 1s 782us/step - loss: 0.1592 - val_loss: 0.1215\n",
      "Epoch 35/5000\n",
      "846/846 [==============================] - 1s 785us/step - loss: 0.1578 - val_loss: 0.1223\n",
      "Epoch 36/5000\n",
      "846/846 [==============================] - 1s 783us/step - loss: 0.1574 - val_loss: 0.1203\n",
      "Epoch 37/5000\n",
      "846/846 [==============================] - 1s 785us/step - loss: 0.1576 - val_loss: 0.1227\n",
      "Epoch 38/5000\n",
      "846/846 [==============================] - 1s 807us/step - loss: 0.1575 - val_loss: 0.1194\n",
      "Epoch 39/5000\n",
      "846/846 [==============================] - 1s 795us/step - loss: 0.1579 - val_loss: 0.1205\n",
      "Epoch 40/5000\n",
      "846/846 [==============================] - 1s 787us/step - loss: 0.1528 - val_loss: 0.1280\n",
      "Epoch 41/5000\n",
      "846/846 [==============================] - 1s 794us/step - loss: 0.1569 - val_loss: 0.1184\n",
      "Epoch 42/5000\n",
      "846/846 [==============================] - 1s 786us/step - loss: 0.1549 - val_loss: 0.1179\n",
      "Epoch 43/5000\n",
      "846/846 [==============================] - 1s 782us/step - loss: 0.1545 - val_loss: 0.1203\n",
      "Epoch 44/5000\n",
      "846/846 [==============================] - 1s 789us/step - loss: 0.1590 - val_loss: 0.1173\n",
      "Epoch 45/5000\n",
      "846/846 [==============================] - 1s 781us/step - loss: 0.1566 - val_loss: 0.1185\n",
      "Epoch 46/5000\n",
      "846/846 [==============================] - 1s 790us/step - loss: 0.1520 - val_loss: 0.1209\n",
      "Epoch 47/5000\n",
      "846/846 [==============================] - 1s 781us/step - loss: 0.1526 - val_loss: 0.1200\n",
      "Epoch 48/5000\n",
      "846/846 [==============================] - 1s 778us/step - loss: 0.1538 - val_loss: 0.1211\n",
      "Epoch 49/5000\n",
      "846/846 [==============================] - 1s 781us/step - loss: 0.1528 - val_loss: 0.1163\n",
      "Epoch 50/5000\n",
      "846/846 [==============================] - 1s 781us/step - loss: 0.1545 - val_loss: 0.1308\n",
      "Epoch 51/5000\n",
      "846/846 [==============================] - 1s 778us/step - loss: 0.1518 - val_loss: 0.1184\n",
      "Epoch 52/5000\n",
      "846/846 [==============================] - 1s 809us/step - loss: 0.1513 - val_loss: 0.1169\n",
      "Epoch 53/5000\n",
      "846/846 [==============================] - 1s 777us/step - loss: 0.1525 - val_loss: 0.1211\n",
      "Epoch 54/5000\n",
      "846/846 [==============================] - 1s 789us/step - loss: 0.1504 - val_loss: 0.1187\n",
      "Epoch 55/5000\n",
      "846/846 [==============================] - 1s 779us/step - loss: 0.1504 - val_loss: 0.1243\n",
      "Epoch 56/5000\n",
      "846/846 [==============================] - 1s 792us/step - loss: 0.1520 - val_loss: 0.1163\n",
      "Epoch 57/5000\n",
      "846/846 [==============================] - 1s 784us/step - loss: 0.1510 - val_loss: 0.1143\n",
      "Epoch 58/5000\n",
      "846/846 [==============================] - 1s 786us/step - loss: 0.1538 - val_loss: 0.1179\n",
      "Epoch 59/5000\n",
      "846/846 [==============================] - 1s 783us/step - loss: 0.1512 - val_loss: 0.1194\n",
      "Epoch 60/5000\n",
      "846/846 [==============================] - 1s 775us/step - loss: 0.1497 - val_loss: 0.1163\n",
      "Epoch 61/5000\n",
      "846/846 [==============================] - 1s 786us/step - loss: 0.1473 - val_loss: 0.1154\n",
      "Epoch 62/5000\n",
      "846/846 [==============================] - 1s 778us/step - loss: 0.1503 - val_loss: 0.1164\n",
      "Epoch 63/5000\n",
      "846/846 [==============================] - 1s 786us/step - loss: 0.1504 - val_loss: 0.1144\n",
      "Epoch 64/5000\n",
      "846/846 [==============================] - 1s 799us/step - loss: 0.1472 - val_loss: 0.1175\n",
      "Epoch 65/5000\n",
      "846/846 [==============================] - 1s 804us/step - loss: 0.1472 - val_loss: 0.1132\n",
      "Epoch 66/5000\n",
      "846/846 [==============================] - 1s 784us/step - loss: 0.1485 - val_loss: 0.1148\n",
      "Epoch 67/5000\n",
      "846/846 [==============================] - 1s 788us/step - loss: 0.1478 - val_loss: 0.1142\n",
      "Epoch 68/5000\n",
      "846/846 [==============================] - 1s 798us/step - loss: 0.1477 - val_loss: 0.1140\n",
      "Epoch 69/5000\n",
      "846/846 [==============================] - 1s 799us/step - loss: 0.1484 - val_loss: 0.1153\n",
      "Epoch 70/5000\n",
      "846/846 [==============================] - 1s 798us/step - loss: 0.1458 - val_loss: 0.1139\n",
      "Epoch 71/5000\n",
      "846/846 [==============================] - 1s 787us/step - loss: 0.1488 - val_loss: 0.1129\n",
      "Epoch 72/5000\n",
      "846/846 [==============================] - 1s 788us/step - loss: 0.1444 - val_loss: 0.1156\n",
      "Epoch 73/5000\n",
      "846/846 [==============================] - 1s 778us/step - loss: 0.1495 - val_loss: 0.1127\n",
      "Epoch 74/5000\n",
      "846/846 [==============================] - 1s 787us/step - loss: 0.1480 - val_loss: 0.1131\n",
      "Epoch 75/5000\n",
      "846/846 [==============================] - 1s 783us/step - loss: 0.1480 - val_loss: 0.1158\n",
      "Epoch 76/5000\n",
      "846/846 [==============================] - 1s 781us/step - loss: 0.1484 - val_loss: 0.1171\n",
      "Epoch 77/5000\n",
      "846/846 [==============================] - 1s 788us/step - loss: 0.1462 - val_loss: 0.1146\n",
      "Epoch 78/5000\n",
      "846/846 [==============================] - 1s 790us/step - loss: 0.1493 - val_loss: 0.1125\n",
      "Epoch 79/5000\n"
     ]
    },
    {
     "name": "stdout",
     "output_type": "stream",
     "text": [
      "846/846 [==============================] - 1s 779us/step - loss: 0.1449 - val_loss: 0.1147\n",
      "Epoch 80/5000\n",
      "846/846 [==============================] - 1s 782us/step - loss: 0.1448 - val_loss: 0.1125\n",
      "Epoch 81/5000\n",
      "846/846 [==============================] - 1s 783us/step - loss: 0.1478 - val_loss: 0.1120\n",
      "Epoch 82/5000\n",
      "846/846 [==============================] - 1s 793us/step - loss: 0.1466 - val_loss: 0.1118\n",
      "Epoch 83/5000\n",
      "846/846 [==============================] - 1s 796us/step - loss: 0.1488 - val_loss: 0.1122\n",
      "Epoch 84/5000\n",
      "846/846 [==============================] - 1s 782us/step - loss: 0.1446 - val_loss: 0.1117\n",
      "Epoch 85/5000\n",
      "846/846 [==============================] - 1s 803us/step - loss: 0.1474 - val_loss: 0.1138\n",
      "Epoch 86/5000\n",
      "846/846 [==============================] - 1s 786us/step - loss: 0.1446 - val_loss: 0.1161\n",
      "Epoch 87/5000\n",
      "846/846 [==============================] - 1s 778us/step - loss: 0.1453 - val_loss: 0.1130\n",
      "Epoch 88/5000\n",
      "846/846 [==============================] - 1s 793us/step - loss: 0.1472 - val_loss: 0.1113\n",
      "Epoch 89/5000\n",
      "846/846 [==============================] - 1s 795us/step - loss: 0.1453 - val_loss: 0.1128\n",
      "Epoch 90/5000\n",
      "846/846 [==============================] - 1s 776us/step - loss: 0.1458 - val_loss: 0.1129\n",
      "Epoch 91/5000\n",
      "846/846 [==============================] - 1s 805us/step - loss: 0.1422 - val_loss: 0.1125\n",
      "Epoch 92/5000\n",
      "846/846 [==============================] - 1s 780us/step - loss: 0.1405 - val_loss: 0.1128\n",
      "Epoch 93/5000\n",
      "846/846 [==============================] - 1s 782us/step - loss: 0.1431 - val_loss: 0.1116\n",
      "Epoch 94/5000\n",
      "846/846 [==============================] - 1s 792us/step - loss: 0.1466 - val_loss: 0.1133\n",
      "Epoch 95/5000\n",
      "846/846 [==============================] - 1s 785us/step - loss: 0.1445 - val_loss: 0.1209\n",
      "Epoch 96/5000\n",
      "846/846 [==============================] - 1s 780us/step - loss: 0.1425 - val_loss: 0.1180\n",
      "Epoch 97/5000\n",
      "846/846 [==============================] - 1s 783us/step - loss: 0.1432 - val_loss: 0.1198\n",
      "Epoch 98/5000\n",
      "846/846 [==============================] - 1s 787us/step - loss: 0.1419 - val_loss: 0.1123\n",
      "Epoch 99/5000\n",
      "846/846 [==============================] - 1s 794us/step - loss: 0.1454 - val_loss: 0.1127\n",
      "Epoch 100/5000\n",
      "846/846 [==============================] - 1s 779us/step - loss: 0.1435 - val_loss: 0.1167\n",
      "Epoch 101/5000\n",
      "846/846 [==============================] - 1s 776us/step - loss: 0.1470 - val_loss: 0.1127\n",
      "Epoch 102/5000\n",
      "846/846 [==============================] - 1s 784us/step - loss: 0.1463 - val_loss: 0.1129\n",
      "Epoch 103/5000\n",
      "846/846 [==============================] - 1s 788us/step - loss: 0.1442 - val_loss: 0.1156\n",
      "Epoch 104/5000\n",
      "846/846 [==============================] - 1s 799us/step - loss: 0.1429 - val_loss: 0.1121\n",
      "Epoch 105/5000\n",
      "846/846 [==============================] - 1s 781us/step - loss: 0.1440 - val_loss: 0.1128\n",
      "Epoch 106/5000\n",
      "846/846 [==============================] - 1s 784us/step - loss: 0.1435 - val_loss: 0.1122\n",
      "Epoch 107/5000\n",
      "846/846 [==============================] - 1s 779us/step - loss: 0.1418 - val_loss: 0.1108\n",
      "Epoch 108/5000\n",
      "846/846 [==============================] - 1s 776us/step - loss: 0.1412 - val_loss: 0.1145\n",
      "Epoch 109/5000\n",
      "846/846 [==============================] - 1s 794us/step - loss: 0.1446 - val_loss: 0.1098\n",
      "Epoch 110/5000\n",
      "846/846 [==============================] - 1s 786us/step - loss: 0.1404 - val_loss: 0.1115\n",
      "Epoch 111/5000\n",
      "846/846 [==============================] - 1s 785us/step - loss: 0.1421 - val_loss: 0.1107\n",
      "Epoch 112/5000\n",
      "846/846 [==============================] - 1s 782us/step - loss: 0.1427 - val_loss: 0.1118\n",
      "Epoch 113/5000\n",
      "846/846 [==============================] - 1s 783us/step - loss: 0.1439 - val_loss: 0.1143\n",
      "Epoch 114/5000\n",
      "846/846 [==============================] - 1s 788us/step - loss: 0.1443 - val_loss: 0.1300\n",
      "Epoch 115/5000\n",
      "846/846 [==============================] - 1s 794us/step - loss: 0.1405 - val_loss: 0.1127\n",
      "Epoch 116/5000\n",
      "846/846 [==============================] - 1s 789us/step - loss: 0.1415 - val_loss: 0.1122\n",
      "Epoch 117/5000\n",
      "846/846 [==============================] - 1s 788us/step - loss: 0.1428 - val_loss: 0.1118\n",
      "Epoch 118/5000\n",
      "846/846 [==============================] - 1s 779us/step - loss: 0.1416 - val_loss: 0.1139\n",
      "Epoch 119/5000\n",
      "846/846 [==============================] - 1s 811us/step - loss: 0.1415 - val_loss: 0.1159\n",
      "Epoch 120/5000\n",
      "846/846 [==============================] - 1s 789us/step - loss: 0.1420 - val_loss: 0.1119\n",
      "Epoch 121/5000\n",
      "846/846 [==============================] - 1s 799us/step - loss: 0.1412 - val_loss: 0.1110\n",
      "Epoch 122/5000\n",
      "846/846 [==============================] - 1s 790us/step - loss: 0.1426 - val_loss: 0.1125\n",
      "Epoch 123/5000\n",
      "846/846 [==============================] - 1s 790us/step - loss: 0.1428 - val_loss: 0.1142\n",
      "Epoch 124/5000\n",
      "846/846 [==============================] - 1s 789us/step - loss: 0.1410 - val_loss: 0.1154\n",
      "Epoch 125/5000\n",
      "846/846 [==============================] - 1s 788us/step - loss: 0.1430 - val_loss: 0.1178\n",
      "Epoch 126/5000\n",
      "846/846 [==============================] - 1s 797us/step - loss: 0.1385 - val_loss: 0.1142\n",
      "Epoch 127/5000\n",
      "846/846 [==============================] - 1s 785us/step - loss: 0.1419 - val_loss: 0.1104\n",
      "Epoch 128/5000\n",
      "846/846 [==============================] - 1s 803us/step - loss: 0.1402 - val_loss: 0.1156\n",
      "Epoch 129/5000\n",
      "846/846 [==============================] - 1s 781us/step - loss: 0.1413 - val_loss: 0.1130\n",
      "Epoch 130/5000\n",
      "846/846 [==============================] - 1s 787us/step - loss: 0.1397 - val_loss: 0.1118\n",
      "Epoch 131/5000\n",
      "846/846 [==============================] - 1s 782us/step - loss: 0.1390 - val_loss: 0.1123\n",
      "Epoch 132/5000\n",
      "846/846 [==============================] - 1s 799us/step - loss: 0.1413 - val_loss: 0.1130\n",
      "Epoch 133/5000\n",
      "846/846 [==============================] - 1s 780us/step - loss: 0.1404 - val_loss: 0.1114\n",
      "Epoch 134/5000\n",
      "846/846 [==============================] - 1s 792us/step - loss: 0.1391 - val_loss: 0.1107\n",
      "Epoch 00134: early stopping\n"
     ]
    },
    {
     "data": {
      "text/plain": [
       "<tensorflow.python.keras.callbacks.History at 0x7f1de45275e0>"
      ]
     },
     "execution_count": 52,
     "metadata": {},
     "output_type": "execute_result"
    }
   ],
   "source": [
    "# Combine dropout layers with early stopping\n",
    "# Goes a bit longer since not all neurons are being trained each epoch\n",
    "model.fit(x=X_train,y=y_train,epochs=5000,validation_data=(X_test,y_test),\n",
    "         callbacks=[early_stop])"
   ]
  },
  {
   "cell_type": "code",
   "execution_count": 53,
   "metadata": {},
   "outputs": [],
   "source": [
    "model_loss = pd.DataFrame(model.history.history)"
   ]
  },
  {
   "cell_type": "code",
   "execution_count": 54,
   "metadata": {},
   "outputs": [
    {
     "data": {
      "text/plain": [
       "<AxesSubplot:>"
      ]
     },
     "execution_count": 54,
     "metadata": {},
     "output_type": "execute_result"
    },
    {
     "data": {
      "image/png": "[encoded data removed]",
      "text/plain": [
       "<Figure size 432x288 with 1 Axes>"
      ]
     },
     "metadata": {
      "needs_background": "light"
     },
     "output_type": "display_data"
    }
   ],
   "source": [
    "# Notice the green loss line stops going down but the blue still is; excess overfitting prevented\n",
    "model_loss.plot()"
   ]
  },
  {
   "cell_type": "code",
   "execution_count": 55,
   "metadata": {
    "collapsed": true
   },
   "outputs": [
    {
     "name": "stderr",
     "output_type": "stream",
     "text": [
      "/home/ubuntu/anaconda3/lib/python3.9/site-packages/tensorflow/python/keras/engine/sequential.py:455: UserWarning: `model.predict_classes()` is deprecated and will be removed after 2021-01-01. Please use instead:* `np.argmax(model.predict(x), axis=-1)`,   if your model does multi-class classification   (e.g. if it uses a `softmax` last-layer activation).* `(model.predict(x) > 0.5).astype(\"int32\")`,   if your model does binary classification   (e.g. if it uses a `sigmoid` last-layer activation).\n",
      "  warnings.warn('`model.predict_classes()` is deprecated and '\n"
     ]
    }
   ],
   "source": [
    "# For binary models use predict_classes\n",
    "predictions = model.predict_classes(X_test)"
   ]
  },
  {
   "cell_type": "code",
   "execution_count": 56,
   "metadata": {},
   "outputs": [],
   "source": [
    "from sklearn.metrics import classification_report,confusion_matrix"
   ]
  },
  {
   "cell_type": "code",
   "execution_count": 57,
   "metadata": {},
   "outputs": [
    {
     "name": "stdout",
     "output_type": "stream",
     "text": [
      "              precision    recall  f1-score   support\n",
      "\n",
      "           0       0.97      0.97      0.97      6425\n",
      "           1       0.96      0.96      0.96      5169\n",
      "\n",
      "    accuracy                           0.96     11594\n",
      "   macro avg       0.96      0.96      0.96     11594\n",
      "weighted avg       0.96      0.96      0.96     11594\n",
      "\n"
     ]
    }
   ],
   "source": [
    "print(classification_report(y_test,predictions))"
   ]
  },
  {
   "cell_type": "code",
   "execution_count": 58,
   "metadata": {},
   "outputs": [
    {
     "name": "stdout",
     "output_type": "stream",
     "text": [
      "[[6212  213]\n",
      " [ 225 4944]]\n"
     ]
    }
   ],
   "source": [
    "# We're trying to minimize false positives to minimize spreading fake news as real.\n",
    "print(confusion_matrix(y_test,predictions))"
   ]
  },
  {
   "cell_type": "markdown",
   "metadata": {},
   "source": [
    "## Part 7: Predict a Novel Article"
   ]
  },
  {
   "cell_type": "code",
   "execution_count": 21,
   "metadata": {},
   "outputs": [],
   "source": [
    "# Takes in raw text and creates desired numpy array\n",
    "def new_art_preprocessor(text):\n",
    "    res = []\n",
    "    res.append(len(text)) # 0: char_length\n",
    "    res.append(len(text.split())) # 1: word_length\n",
    "    res.append(res[0] / res[1]) # 2: avg_char_word\n",
    "    res.append(num_capital_letters(text) / res[1]) # 3: capital_per_word_length\n",
    "    res.append(all_punc_count(text) / res[1]) # 4: all_punc_count_word  \n",
    "    for punc in string.punctuation:\n",
    "        res.append(punc_occurences(text,punc,res[1])) # 5-36: punctuations\n",
    "    res.append(stopword_count(text,res[1])) # 37: stopwords\n",
    "    \n",
    "    art_array = pd.DataFrame(res).values\n",
    "    return scaler.transform(art_array.reshape(-1,38))"
   ]
  },
  {
   "cell_type": "code",
   "execution_count": 22,
   "metadata": {},
   "outputs": [
    {
     "name": "stdout",
     "output_type": "stream",
     "text": [
      "Please enter article: WASHINGTON (Reuters) - Transgender people will be allowed for the first time to enlist in the U.S. military starting on Monday as ordered by federal courts, the Pentagon said on Friday, after President Donald Trumpâ€™s administration decided not to appeal rulings that blocked his transgender ban. Two federal appeals courts, one in Washington and one in Virginia, last week rejected the administrationâ€™s request to put on hold orders by lower court judges requiring the military to begin accepting transgender recruits on Jan. 1. A Justice Department official said the administration will not challenge those rulings. â€œThe Department of Defense has announced that it will be releasing an independent study of these issues in the coming weeks. So rather than litigate this interim appeal before that occurs, the administration has decided to wait for DODâ€™s study and will continue to defend the presidentâ€™s lawful authority in District Court in the meantime,â€ the official said, speaking on condition of anonymity. In September, the Pentagon said it had created a panel of senior officials to study how to implement a directive by Trump to prohibit transgender individuals from serving. The Defense Department has until Feb. 21 to submit a plan to Trump. Lawyers representing currently-serving transgender service members and aspiring recruits said they had expected the administration to appeal the rulings to the conservative-majority Supreme Court, but were hoping that would not happen. Pentagon spokeswoman Heather Babb said in a statement: â€œAs mandated by court order, the Department of Defense is prepared to begin accessing transgender applicants for military service Jan. 1. All applicants must meet all accession standards.â€ Jennifer Levi, a lawyer with gay, lesbian and transgender advocacy group GLAD, called the decision not to appeal â€œgreat news.â€ â€œIâ€™m hoping it means the government has come to see that there is no way to justify a ban and that itâ€™s not good for the military or our country,â€ Levi said. Both GLAD and the American Civil Liberties Union represent plaintiffs in the lawsuits filed against the administration. In a move that appealed to his hard-line conservative supporters, Trump announced in July that he would prohibit transgender people from serving in the military, reversing Democratic President Barack Obamaâ€™s policy of accepting them. Trump said on Twitter at the time that the military â€œcannot be burdened with the tremendous medical costs and disruption that transgender in the military would entail.â€ Four federal judges - in Baltimore, Washington, D.C., Seattle and Riverside, California - have issued rulings blocking Trumpâ€™s ban while legal challenges to the Republican presidentâ€™s policy proceed. The judges said the ban would likely violate the right under the U.S. Constitution to equal protection under the law. The Pentagon on Dec. 8 issued guidelines to recruitment personnel in order to enlist transgender applicants by Jan. 1. The memo outlined medical requirements and specified how the applicantsâ€™ sex would be identified and even which undergarments they would wear. The Trump administration previously said in legal papers that the armed forces were not prepared to train thousands of personnel on the medical standards needed to process transgender applicants and might have to accept â€œsome individuals who are not medically fit for service.â€ The Obama administration had set a deadline of July 1, 2017, to begin accepting transgender recruits. But Trumpâ€™s defense secretary, James Mattis, postponed that date to Jan. 1, 2018, which the presidentâ€™s ban then put off indefinitely. Trump has taken other steps aimed at rolling back transgender rights. In October, his administration said a federal law banning gender-based workplace discrimination does not protect transgender employees, reversing another Obama-era position. In February, Trump rescinded guidance issued by the Obama administration saying that public schools should allow transgender students to use the restroom that corresponds to their gender identity. \n",
      "\n",
      "Real: 98.72% \n",
      "Fake: 1.28%\n",
      "Result: Real\n"
     ]
    }
   ],
   "source": [
    "new_art = input(\"Please enter article: \")\n",
    "score = model.predict(new_art_preprocessor(new_art))[0][0]\n",
    "real_score = round((1-score)*100.0,2)\n",
    "fake_score = round((score)*100.0,2)\n",
    "print(f\"\\nReal: {real_score}% \\nFake: {fake_score}%\")\n",
    "print(f\"Result: {'Real' if real_score > fake_score else 'Fake'}\")"
   ]
  },
  {
   "cell_type": "markdown",
   "metadata": {},
   "source": [
    "## Part 8: Save model"
   ]
  },
  {
   "cell_type": "code",
   "execution_count": 18,
   "metadata": {},
   "outputs": [],
   "source": [
    "import tensorflow as tf\n",
    "from tensorflow.keras.models import Model\n",
    "from tensorflow.keras.models import load_model"
   ]
  },
  {
   "cell_type": "code",
   "execution_count": 60,
   "metadata": {},
   "outputs": [],
   "source": [
    "# Save model\n",
    "# model.save('fullrnnweights.h5')"
   ]
  },
  {
   "cell_type": "code",
   "execution_count": 19,
   "metadata": {},
   "outputs": [],
   "source": [
    "# Load model\n",
    "model = tf.keras.models.load_model('fullrnnweights.h5')"
   ]
  },
  {
   "cell_type": "code",
   "execution_count": null,
   "metadata": {},
   "outputs": [],
   "source": []
  }
 ],
 "metadata": {
  "kernelspec": {
   "display_name": "Python 3",
   "language": "python",
   "name": "python3"
  },
  "language_info": {
   "codemirror_mode": {
    "name": "ipython",
    "version": 3
   },
   "file_extension": ".py",
   "mimetype": "text/x-python",
   "name": "python",
   "nbconvert_exporter": "python",
   "pygments_lexer": "ipython3",
   "version": "3.8.3"
  }
 },
 "nbformat": 4,
 "nbformat_minor": 4
}
